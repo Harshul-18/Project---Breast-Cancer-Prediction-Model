{
  "cells": [
    {
      "cell_type": "code",
      "source": [
        "import numpy as np\n",
        "import pandas as pd\n",
        "import matplotlib.pyplot as plt\n",
        "import sklearn.datasets\n",
        "from sklearn.model_selection import train_test_split"
      ],
      "outputs": [],
      "execution_count": 1,
      "metadata": {
        "collapsed": true,
        "jupyter": {
          "source_hidden": false,
          "outputs_hidden": false
        },
        "nteract": {
          "transient": {
            "deleting": false
          }
        },
        "execution": {
          "iopub.status.busy": "2022-08-28T05:48:02.931Z",
          "iopub.execute_input": "2022-08-28T05:48:02.933Z",
          "iopub.status.idle": "2022-08-28T05:48:04.748Z",
          "shell.execute_reply": "2022-08-28T05:48:04.752Z"
        }
      }
    },
    {
      "cell_type": "code",
      "source": [
        "dataset = sklearn.datasets.load_breast_cancer()"
      ],
      "outputs": [],
      "execution_count": 2,
      "metadata": {
        "collapsed": true,
        "jupyter": {
          "source_hidden": false,
          "outputs_hidden": false
        },
        "nteract": {
          "transient": {
            "deleting": false
          }
        },
        "execution": {
          "iopub.status.busy": "2022-08-28T05:48:51.090Z",
          "iopub.execute_input": "2022-08-28T05:48:51.092Z",
          "iopub.status.idle": "2022-08-28T05:48:51.098Z",
          "shell.execute_reply": "2022-08-28T05:48:51.101Z"
        }
      }
    },
    {
      "cell_type": "code",
      "source": [
        "print(dataset)"
      ],
      "outputs": [
        {
          "output_type": "stream",
          "name": "stdout",
          "text": [
            "{'data': array([[1.799e+01, 1.038e+01, 1.228e+02, ..., 2.654e-01, 4.601e-01,\n",
            "        1.189e-01],\n",
            "       [2.057e+01, 1.777e+01, 1.329e+02, ..., 1.860e-01, 2.750e-01,\n",
            "        8.902e-02],\n",
            "       [1.969e+01, 2.125e+01, 1.300e+02, ..., 2.430e-01, 3.613e-01,\n",
            "        8.758e-02],\n",
            "       ...,\n",
            "       [1.660e+01, 2.808e+01, 1.083e+02, ..., 1.418e-01, 2.218e-01,\n",
            "        7.820e-02],\n",
            "       [2.060e+01, 2.933e+01, 1.401e+02, ..., 2.650e-01, 4.087e-01,\n",
            "        1.240e-01],\n",
            "       [7.760e+00, 2.454e+01, 4.792e+01, ..., 0.000e+00, 2.871e-01,\n",
            "        7.039e-02]]), 'target': array([0, 0, 0, 0, 0, 0, 0, 0, 0, 0, 0, 0, 0, 0, 0, 0, 0, 0, 0, 1, 1, 1,\n",
            "       0, 0, 0, 0, 0, 0, 0, 0, 0, 0, 0, 0, 0, 0, 0, 1, 0, 0, 0, 0, 0, 0,\n",
            "       0, 0, 1, 0, 1, 1, 1, 1, 1, 0, 0, 1, 0, 0, 1, 1, 1, 1, 0, 1, 0, 0,\n",
            "       1, 1, 1, 1, 0, 1, 0, 0, 1, 0, 1, 0, 0, 1, 1, 1, 0, 0, 1, 0, 0, 0,\n",
            "       1, 1, 1, 0, 1, 1, 0, 0, 1, 1, 1, 0, 0, 1, 1, 1, 1, 0, 1, 1, 0, 1,\n",
            "       1, 1, 1, 1, 1, 1, 1, 0, 0, 0, 1, 0, 0, 1, 1, 1, 0, 0, 1, 0, 1, 0,\n",
            "       0, 1, 0, 0, 1, 1, 0, 1, 1, 0, 1, 1, 1, 1, 0, 1, 1, 1, 1, 1, 1, 1,\n",
            "       1, 1, 0, 1, 1, 1, 1, 0, 0, 1, 0, 1, 1, 0, 0, 1, 1, 0, 0, 1, 1, 1,\n",
            "       1, 0, 1, 1, 0, 0, 0, 1, 0, 1, 0, 1, 1, 1, 0, 1, 1, 0, 0, 1, 0, 0,\n",
            "       0, 0, 1, 0, 0, 0, 1, 0, 1, 0, 1, 1, 0, 1, 0, 0, 0, 0, 1, 1, 0, 0,\n",
            "       1, 1, 1, 0, 1, 1, 1, 1, 1, 0, 0, 1, 1, 0, 1, 1, 0, 0, 1, 0, 1, 1,\n",
            "       1, 1, 0, 1, 1, 1, 1, 1, 0, 1, 0, 0, 0, 0, 0, 0, 0, 0, 0, 0, 0, 0,\n",
            "       0, 0, 1, 1, 1, 1, 1, 1, 0, 1, 0, 1, 1, 0, 1, 1, 0, 1, 0, 0, 1, 1,\n",
            "       1, 1, 1, 1, 1, 1, 1, 1, 1, 1, 1, 0, 1, 1, 0, 1, 0, 1, 1, 1, 1, 1,\n",
            "       1, 1, 1, 1, 1, 1, 1, 1, 1, 0, 1, 1, 1, 0, 1, 0, 1, 1, 1, 1, 0, 0,\n",
            "       0, 1, 1, 1, 1, 0, 1, 0, 1, 0, 1, 1, 1, 0, 1, 1, 1, 1, 1, 1, 1, 0,\n",
            "       0, 0, 1, 1, 1, 1, 1, 1, 1, 1, 1, 1, 1, 0, 0, 1, 0, 0, 0, 1, 0, 0,\n",
            "       1, 1, 1, 1, 1, 0, 1, 1, 1, 1, 1, 0, 1, 1, 1, 0, 1, 1, 0, 0, 1, 1,\n",
            "       1, 1, 1, 1, 0, 1, 1, 1, 1, 1, 1, 1, 0, 1, 1, 1, 1, 1, 0, 1, 1, 0,\n",
            "       1, 1, 1, 1, 1, 1, 1, 1, 1, 1, 1, 1, 0, 1, 0, 0, 1, 0, 1, 1, 1, 1,\n",
            "       1, 0, 1, 1, 0, 1, 0, 1, 1, 0, 1, 0, 1, 1, 1, 1, 1, 1, 1, 1, 0, 0,\n",
            "       1, 1, 1, 1, 1, 1, 0, 1, 1, 1, 1, 1, 1, 1, 1, 1, 1, 0, 1, 1, 1, 1,\n",
            "       1, 1, 1, 0, 1, 0, 1, 1, 0, 1, 1, 1, 1, 1, 0, 0, 1, 0, 1, 0, 1, 1,\n",
            "       1, 1, 1, 0, 1, 1, 0, 1, 0, 1, 0, 0, 1, 1, 1, 0, 1, 1, 1, 1, 1, 1,\n",
            "       1, 1, 1, 1, 1, 0, 1, 0, 0, 1, 1, 1, 1, 1, 1, 1, 1, 1, 1, 1, 1, 1,\n",
            "       1, 1, 1, 1, 1, 1, 1, 1, 1, 1, 1, 1, 0, 0, 0, 0, 0, 0, 1]), 'frame': None, 'target_names': array(['malignant', 'benign'], dtype='<U9'), 'DESCR': '.. _breast_cancer_dataset:\\n\\nBreast cancer wisconsin (diagnostic) dataset\\n--------------------------------------------\\n\\n**Data Set Characteristics:**\\n\\n    :Number of Instances: 569\\n\\n    :Number of Attributes: 30 numeric, predictive attributes and the class\\n\\n    :Attribute Information:\\n        - radius (mean of distances from center to points on the perimeter)\\n        - texture (standard deviation of gray-scale values)\\n        - perimeter\\n        - area\\n        - smoothness (local variation in radius lengths)\\n        - compactness (perimeter^2 / area - 1.0)\\n        - concavity (severity of concave portions of the contour)\\n        - concave points (number of concave portions of the contour)\\n        - symmetry\\n        - fractal dimension (\"coastline approximation\" - 1)\\n\\n        The mean, standard error, and \"worst\" or largest (mean of the three\\n        worst/largest values) of these features were computed for each image,\\n        resulting in 30 features.  For instance, field 0 is Mean Radius, field\\n        10 is Radius SE, field 20 is Worst Radius.\\n\\n        - class:\\n                - WDBC-Malignant\\n                - WDBC-Benign\\n\\n    :Summary Statistics:\\n\\n    ===================================== ====== ======\\n                                           Min    Max\\n    ===================================== ====== ======\\n    radius (mean):                        6.981  28.11\\n    texture (mean):                       9.71   39.28\\n    perimeter (mean):                     43.79  188.5\\n    area (mean):                          143.5  2501.0\\n    smoothness (mean):                    0.053  0.163\\n    compactness (mean):                   0.019  0.345\\n    concavity (mean):                     0.0    0.427\\n    concave points (mean):                0.0    0.201\\n    symmetry (mean):                      0.106  0.304\\n    fractal dimension (mean):             0.05   0.097\\n    radius (standard error):              0.112  2.873\\n    texture (standard error):             0.36   4.885\\n    perimeter (standard error):           0.757  21.98\\n    area (standard error):                6.802  542.2\\n    smoothness (standard error):          0.002  0.031\\n    compactness (standard error):         0.002  0.135\\n    concavity (standard error):           0.0    0.396\\n    concave points (standard error):      0.0    0.053\\n    symmetry (standard error):            0.008  0.079\\n    fractal dimension (standard error):   0.001  0.03\\n    radius (worst):                       7.93   36.04\\n    texture (worst):                      12.02  49.54\\n    perimeter (worst):                    50.41  251.2\\n    area (worst):                         185.2  4254.0\\n    smoothness (worst):                   0.071  0.223\\n    compactness (worst):                  0.027  1.058\\n    concavity (worst):                    0.0    1.252\\n    concave points (worst):               0.0    0.291\\n    symmetry (worst):                     0.156  0.664\\n    fractal dimension (worst):            0.055  0.208\\n    ===================================== ====== ======\\n\\n    :Missing Attribute Values: None\\n\\n    :Class Distribution: 212 - Malignant, 357 - Benign\\n\\n    :Creator:  Dr. William H. Wolberg, W. Nick Street, Olvi L. Mangasarian\\n\\n    :Donor: Nick Street\\n\\n    :Date: November, 1995\\n\\nThis is a copy of UCI ML Breast Cancer Wisconsin (Diagnostic) datasets.\\nhttps://goo.gl/U2Uwz2\\n\\nFeatures are computed from a digitized image of a fine needle\\naspirate (FNA) of a breast mass.  They describe\\ncharacteristics of the cell nuclei present in the image.\\n\\nSeparating plane described above was obtained using\\nMultisurface Method-Tree (MSM-T) [K. P. Bennett, \"Decision Tree\\nConstruction Via Linear Programming.\" Proceedings of the 4th\\nMidwest Artificial Intelligence and Cognitive Science Society,\\npp. 97-101, 1992], a classification method which uses linear\\nprogramming to construct a decision tree.  Relevant features\\nwere selected using an exhaustive search in the space of 1-4\\nfeatures and 1-3 separating planes.\\n\\nThe actual linear program used to obtain the separating plane\\nin the 3-dimensional space is that described in:\\n[K. P. Bennett and O. L. Mangasarian: \"Robust Linear\\nProgramming Discrimination of Two Linearly Inseparable Sets\",\\nOptimization Methods and Software 1, 1992, 23-34].\\n\\nThis database is also available through the UW CS ftp server:\\n\\nftp ftp.cs.wisc.edu\\ncd math-prog/cpo-dataset/machine-learn/WDBC/\\n\\n.. topic:: References\\n\\n   - W.N. Street, W.H. Wolberg and O.L. Mangasarian. Nuclear feature extraction \\n     for breast tumor diagnosis. IS&T/SPIE 1993 International Symposium on \\n     Electronic Imaging: Science and Technology, volume 1905, pages 861-870,\\n     San Jose, CA, 1993.\\n   - O.L. Mangasarian, W.N. Street and W.H. Wolberg. Breast cancer diagnosis and \\n     prognosis via linear programming. Operations Research, 43(4), pages 570-577, \\n     July-August 1995.\\n   - W.H. Wolberg, W.N. Street, and O.L. Mangasarian. Machine learning techniques\\n     to diagnose breast cancer from fine-needle aspirates. Cancer Letters 77 (1994) \\n     163-171.', 'feature_names': array(['mean radius', 'mean texture', 'mean perimeter', 'mean area',\n",
            "       'mean smoothness', 'mean compactness', 'mean concavity',\n",
            "       'mean concave points', 'mean symmetry', 'mean fractal dimension',\n",
            "       'radius error', 'texture error', 'perimeter error', 'area error',\n",
            "       'smoothness error', 'compactness error', 'concavity error',\n",
            "       'concave points error', 'symmetry error',\n",
            "       'fractal dimension error', 'worst radius', 'worst texture',\n",
            "       'worst perimeter', 'worst area', 'worst smoothness',\n",
            "       'worst compactness', 'worst concavity', 'worst concave points',\n",
            "       'worst symmetry', 'worst fractal dimension'], dtype='<U23'), 'filename': 'breast_cancer.csv', 'data_module': 'sklearn.datasets.data'}\n"
          ]
        }
      ],
      "execution_count": 3,
      "metadata": {
        "collapsed": true,
        "jupyter": {
          "source_hidden": false,
          "outputs_hidden": false
        },
        "nteract": {
          "transient": {
            "deleting": false
          }
        },
        "execution": {
          "iopub.status.busy": "2022-08-28T05:49:00.928Z",
          "iopub.execute_input": "2022-08-28T05:49:00.931Z",
          "iopub.status.idle": "2022-08-28T05:49:01.028Z",
          "shell.execute_reply": "2022-08-28T05:49:01.031Z"
        }
      }
    },
    {
      "cell_type": "code",
      "source": [
        "dataframe = pd.DataFrame(dataset.data, columns=dataset.feature_names)"
      ],
      "outputs": [],
      "execution_count": 5,
      "metadata": {
        "collapsed": true,
        "jupyter": {
          "source_hidden": false,
          "outputs_hidden": false
        },
        "nteract": {
          "transient": {
            "deleting": false
          }
        },
        "execution": {
          "iopub.status.busy": "2022-08-28T05:50:26.312Z",
          "iopub.execute_input": "2022-08-28T05:50:26.316Z",
          "iopub.status.idle": "2022-08-28T05:50:26.321Z",
          "shell.execute_reply": "2022-08-28T05:50:26.324Z"
        }
      }
    },
    {
      "cell_type": "code",
      "source": [
        "dataframe.head()"
      ],
      "outputs": [
        {
          "output_type": "execute_result",
          "execution_count": 6,
          "data": {
            "text/plain": "   mean radius  mean texture  mean perimeter  mean area  mean smoothness  \\\n0        17.99         10.38          122.80     1001.0          0.11840   \n1        20.57         17.77          132.90     1326.0          0.08474   \n2        19.69         21.25          130.00     1203.0          0.10960   \n3        11.42         20.38           77.58      386.1          0.14250   \n4        20.29         14.34          135.10     1297.0          0.10030   \n\n   mean compactness  mean concavity  mean concave points  mean symmetry  \\\n0           0.27760          0.3001              0.14710         0.2419   \n1           0.07864          0.0869              0.07017         0.1812   \n2           0.15990          0.1974              0.12790         0.2069   \n3           0.28390          0.2414              0.10520         0.2597   \n4           0.13280          0.1980              0.10430         0.1809   \n\n   mean fractal dimension  ...  worst radius  worst texture  worst perimeter  \\\n0                 0.07871  ...         25.38          17.33           184.60   \n1                 0.05667  ...         24.99          23.41           158.80   \n2                 0.05999  ...         23.57          25.53           152.50   \n3                 0.09744  ...         14.91          26.50            98.87   \n4                 0.05883  ...         22.54          16.67           152.20   \n\n   worst area  worst smoothness  worst compactness  worst concavity  \\\n0      2019.0            0.1622             0.6656           0.7119   \n1      1956.0            0.1238             0.1866           0.2416   \n2      1709.0            0.1444             0.4245           0.4504   \n3       567.7            0.2098             0.8663           0.6869   \n4      1575.0            0.1374             0.2050           0.4000   \n\n   worst concave points  worst symmetry  worst fractal dimension  \n0                0.2654          0.4601                  0.11890  \n1                0.1860          0.2750                  0.08902  \n2                0.2430          0.3613                  0.08758  \n3                0.2575          0.6638                  0.17300  \n4                0.1625          0.2364                  0.07678  \n\n[5 rows x 30 columns]",
            "text/html": "<div>\n<style scoped>\n    .dataframe tbody tr th:only-of-type {\n        vertical-align: middle;\n    }\n\n    .dataframe tbody tr th {\n        vertical-align: top;\n    }\n\n    .dataframe thead th {\n        text-align: right;\n    }\n</style>\n<table border=\"1\" class=\"dataframe\">\n  <thead>\n    <tr style=\"text-align: right;\">\n      <th></th>\n      <th>mean radius</th>\n      <th>mean texture</th>\n      <th>mean perimeter</th>\n      <th>mean area</th>\n      <th>mean smoothness</th>\n      <th>mean compactness</th>\n      <th>mean concavity</th>\n      <th>mean concave points</th>\n      <th>mean symmetry</th>\n      <th>mean fractal dimension</th>\n      <th>...</th>\n      <th>worst radius</th>\n      <th>worst texture</th>\n      <th>worst perimeter</th>\n      <th>worst area</th>\n      <th>worst smoothness</th>\n      <th>worst compactness</th>\n      <th>worst concavity</th>\n      <th>worst concave points</th>\n      <th>worst symmetry</th>\n      <th>worst fractal dimension</th>\n    </tr>\n  </thead>\n  <tbody>\n    <tr>\n      <th>0</th>\n      <td>17.99</td>\n      <td>10.38</td>\n      <td>122.80</td>\n      <td>1001.0</td>\n      <td>0.11840</td>\n      <td>0.27760</td>\n      <td>0.3001</td>\n      <td>0.14710</td>\n      <td>0.2419</td>\n      <td>0.07871</td>\n      <td>...</td>\n      <td>25.38</td>\n      <td>17.33</td>\n      <td>184.60</td>\n      <td>2019.0</td>\n      <td>0.1622</td>\n      <td>0.6656</td>\n      <td>0.7119</td>\n      <td>0.2654</td>\n      <td>0.4601</td>\n      <td>0.11890</td>\n    </tr>\n    <tr>\n      <th>1</th>\n      <td>20.57</td>\n      <td>17.77</td>\n      <td>132.90</td>\n      <td>1326.0</td>\n      <td>0.08474</td>\n      <td>0.07864</td>\n      <td>0.0869</td>\n      <td>0.07017</td>\n      <td>0.1812</td>\n      <td>0.05667</td>\n      <td>...</td>\n      <td>24.99</td>\n      <td>23.41</td>\n      <td>158.80</td>\n      <td>1956.0</td>\n      <td>0.1238</td>\n      <td>0.1866</td>\n      <td>0.2416</td>\n      <td>0.1860</td>\n      <td>0.2750</td>\n      <td>0.08902</td>\n    </tr>\n    <tr>\n      <th>2</th>\n      <td>19.69</td>\n      <td>21.25</td>\n      <td>130.00</td>\n      <td>1203.0</td>\n      <td>0.10960</td>\n      <td>0.15990</td>\n      <td>0.1974</td>\n      <td>0.12790</td>\n      <td>0.2069</td>\n      <td>0.05999</td>\n      <td>...</td>\n      <td>23.57</td>\n      <td>25.53</td>\n      <td>152.50</td>\n      <td>1709.0</td>\n      <td>0.1444</td>\n      <td>0.4245</td>\n      <td>0.4504</td>\n      <td>0.2430</td>\n      <td>0.3613</td>\n      <td>0.08758</td>\n    </tr>\n    <tr>\n      <th>3</th>\n      <td>11.42</td>\n      <td>20.38</td>\n      <td>77.58</td>\n      <td>386.1</td>\n      <td>0.14250</td>\n      <td>0.28390</td>\n      <td>0.2414</td>\n      <td>0.10520</td>\n      <td>0.2597</td>\n      <td>0.09744</td>\n      <td>...</td>\n      <td>14.91</td>\n      <td>26.50</td>\n      <td>98.87</td>\n      <td>567.7</td>\n      <td>0.2098</td>\n      <td>0.8663</td>\n      <td>0.6869</td>\n      <td>0.2575</td>\n      <td>0.6638</td>\n      <td>0.17300</td>\n    </tr>\n    <tr>\n      <th>4</th>\n      <td>20.29</td>\n      <td>14.34</td>\n      <td>135.10</td>\n      <td>1297.0</td>\n      <td>0.10030</td>\n      <td>0.13280</td>\n      <td>0.1980</td>\n      <td>0.10430</td>\n      <td>0.1809</td>\n      <td>0.05883</td>\n      <td>...</td>\n      <td>22.54</td>\n      <td>16.67</td>\n      <td>152.20</td>\n      <td>1575.0</td>\n      <td>0.1374</td>\n      <td>0.2050</td>\n      <td>0.4000</td>\n      <td>0.1625</td>\n      <td>0.2364</td>\n      <td>0.07678</td>\n    </tr>\n  </tbody>\n</table>\n<p>5 rows × 30 columns</p>\n</div>"
          },
          "metadata": {}
        }
      ],
      "execution_count": 6,
      "metadata": {
        "collapsed": true,
        "jupyter": {
          "source_hidden": false,
          "outputs_hidden": false
        },
        "nteract": {
          "transient": {
            "deleting": false
          }
        },
        "execution": {
          "iopub.status.busy": "2022-08-28T05:50:33.861Z",
          "iopub.execute_input": "2022-08-28T05:50:33.864Z",
          "iopub.status.idle": "2022-08-28T05:50:33.884Z",
          "shell.execute_reply": "2022-08-28T05:50:33.887Z"
        }
      }
    },
    {
      "cell_type": "code",
      "source": [
        "dataframe[\"label\"] = dataset.target"
      ],
      "outputs": [],
      "execution_count": 7,
      "metadata": {
        "collapsed": true,
        "jupyter": {
          "source_hidden": false,
          "outputs_hidden": false
        },
        "nteract": {
          "transient": {
            "deleting": false
          }
        },
        "execution": {
          "iopub.status.busy": "2022-08-28T05:51:24.497Z",
          "iopub.execute_input": "2022-08-28T05:51:24.503Z",
          "iopub.status.idle": "2022-08-28T05:51:24.508Z",
          "shell.execute_reply": "2022-08-28T05:51:24.512Z"
        }
      }
    },
    {
      "cell_type": "code",
      "source": [
        "dataframe.shape"
      ],
      "outputs": [
        {
          "output_type": "execute_result",
          "execution_count": 8,
          "data": {
            "text/plain": "(569, 31)"
          },
          "metadata": {}
        }
      ],
      "execution_count": 8,
      "metadata": {
        "collapsed": true,
        "jupyter": {
          "source_hidden": false,
          "outputs_hidden": false
        },
        "nteract": {
          "transient": {
            "deleting": false
          }
        },
        "execution": {
          "iopub.status.busy": "2022-08-28T05:51:42.969Z",
          "iopub.execute_input": "2022-08-28T05:51:42.974Z",
          "iopub.status.idle": "2022-08-28T05:51:43.040Z",
          "shell.execute_reply": "2022-08-28T05:51:43.049Z"
        }
      }
    },
    {
      "cell_type": "code",
      "source": [
        "dataframe[\"label\"].describe()"
      ],
      "outputs": [
        {
          "output_type": "execute_result",
          "execution_count": 11,
          "data": {
            "text/plain": "count    569.000000\nmean       0.627417\nstd        0.483918\nmin        0.000000\n25%        0.000000\n50%        1.000000\n75%        1.000000\nmax        1.000000\nName: label, dtype: float64"
          },
          "metadata": {}
        }
      ],
      "execution_count": 11,
      "metadata": {
        "collapsed": true,
        "jupyter": {
          "source_hidden": false,
          "outputs_hidden": false
        },
        "nteract": {
          "transient": {
            "deleting": false
          }
        },
        "execution": {
          "iopub.status.busy": "2022-08-28T05:52:29.599Z",
          "iopub.execute_input": "2022-08-28T05:52:29.604Z",
          "iopub.status.idle": "2022-08-28T05:52:29.675Z",
          "shell.execute_reply": "2022-08-28T05:52:29.677Z"
        }
      }
    },
    {
      "cell_type": "code",
      "source": [
        "dataframe.groupby(\"label\").mean()"
      ],
      "outputs": [
        {
          "output_type": "execute_result",
          "execution_count": 14,
          "data": {
            "text/plain": "       mean radius  mean texture  mean perimeter   mean area  mean smoothness  \\\nlabel                                                                           \n0        17.462830     21.604906      115.365377  978.376415         0.102898   \n1        12.146524     17.914762       78.075406  462.790196         0.092478   \n\n       mean compactness  mean concavity  mean concave points  mean symmetry  \\\nlabel                                                                         \n0              0.145188        0.160775             0.087990       0.192909   \n1              0.080085        0.046058             0.025717       0.174186   \n\n       mean fractal dimension  ...  worst radius  worst texture  \\\nlabel                          ...                                \n0                    0.062680  ...     21.134811      29.318208   \n1                    0.062867  ...     13.379801      23.515070   \n\n       worst perimeter   worst area  worst smoothness  worst compactness  \\\nlabel                                                                      \n0           141.370330  1422.286321          0.144845           0.374824   \n1            87.005938   558.899440          0.124959           0.182673   \n\n       worst concavity  worst concave points  worst symmetry  \\\nlabel                                                          \n0             0.450606              0.182237        0.323468   \n1             0.166238              0.074444        0.270246   \n\n       worst fractal dimension  \nlabel                           \n0                     0.091530  \n1                     0.079442  \n\n[2 rows x 30 columns]",
            "text/html": "<div>\n<style scoped>\n    .dataframe tbody tr th:only-of-type {\n        vertical-align: middle;\n    }\n\n    .dataframe tbody tr th {\n        vertical-align: top;\n    }\n\n    .dataframe thead th {\n        text-align: right;\n    }\n</style>\n<table border=\"1\" class=\"dataframe\">\n  <thead>\n    <tr style=\"text-align: right;\">\n      <th></th>\n      <th>mean radius</th>\n      <th>mean texture</th>\n      <th>mean perimeter</th>\n      <th>mean area</th>\n      <th>mean smoothness</th>\n      <th>mean compactness</th>\n      <th>mean concavity</th>\n      <th>mean concave points</th>\n      <th>mean symmetry</th>\n      <th>mean fractal dimension</th>\n      <th>...</th>\n      <th>worst radius</th>\n      <th>worst texture</th>\n      <th>worst perimeter</th>\n      <th>worst area</th>\n      <th>worst smoothness</th>\n      <th>worst compactness</th>\n      <th>worst concavity</th>\n      <th>worst concave points</th>\n      <th>worst symmetry</th>\n      <th>worst fractal dimension</th>\n    </tr>\n    <tr>\n      <th>label</th>\n      <th></th>\n      <th></th>\n      <th></th>\n      <th></th>\n      <th></th>\n      <th></th>\n      <th></th>\n      <th></th>\n      <th></th>\n      <th></th>\n      <th></th>\n      <th></th>\n      <th></th>\n      <th></th>\n      <th></th>\n      <th></th>\n      <th></th>\n      <th></th>\n      <th></th>\n      <th></th>\n      <th></th>\n    </tr>\n  </thead>\n  <tbody>\n    <tr>\n      <th>0</th>\n      <td>17.462830</td>\n      <td>21.604906</td>\n      <td>115.365377</td>\n      <td>978.376415</td>\n      <td>0.102898</td>\n      <td>0.145188</td>\n      <td>0.160775</td>\n      <td>0.087990</td>\n      <td>0.192909</td>\n      <td>0.062680</td>\n      <td>...</td>\n      <td>21.134811</td>\n      <td>29.318208</td>\n      <td>141.370330</td>\n      <td>1422.286321</td>\n      <td>0.144845</td>\n      <td>0.374824</td>\n      <td>0.450606</td>\n      <td>0.182237</td>\n      <td>0.323468</td>\n      <td>0.091530</td>\n    </tr>\n    <tr>\n      <th>1</th>\n      <td>12.146524</td>\n      <td>17.914762</td>\n      <td>78.075406</td>\n      <td>462.790196</td>\n      <td>0.092478</td>\n      <td>0.080085</td>\n      <td>0.046058</td>\n      <td>0.025717</td>\n      <td>0.174186</td>\n      <td>0.062867</td>\n      <td>...</td>\n      <td>13.379801</td>\n      <td>23.515070</td>\n      <td>87.005938</td>\n      <td>558.899440</td>\n      <td>0.124959</td>\n      <td>0.182673</td>\n      <td>0.166238</td>\n      <td>0.074444</td>\n      <td>0.270246</td>\n      <td>0.079442</td>\n    </tr>\n  </tbody>\n</table>\n<p>2 rows × 30 columns</p>\n</div>"
          },
          "metadata": {}
        }
      ],
      "execution_count": 14,
      "metadata": {
        "collapsed": true,
        "jupyter": {
          "source_hidden": false,
          "outputs_hidden": false
        },
        "nteract": {
          "transient": {
            "deleting": false
          }
        },
        "execution": {
          "iopub.status.busy": "2022-08-28T05:53:22.817Z",
          "iopub.execute_input": "2022-08-28T05:53:22.824Z",
          "iopub.status.idle": "2022-08-28T05:53:22.900Z",
          "shell.execute_reply": "2022-08-28T05:53:22.912Z"
        }
      }
    },
    {
      "cell_type": "code",
      "source": [
        "X = dataframe.drop(columns=\"label\", axis=1)\n",
        "y = dataframe[\"label\"]"
      ],
      "outputs": [],
      "execution_count": 15,
      "metadata": {
        "collapsed": true,
        "jupyter": {
          "source_hidden": false,
          "outputs_hidden": false
        },
        "nteract": {
          "transient": {
            "deleting": false
          }
        },
        "execution": {
          "iopub.status.busy": "2022-08-28T05:54:29.514Z",
          "iopub.execute_input": "2022-08-28T05:54:29.516Z",
          "iopub.status.idle": "2022-08-28T05:54:29.522Z",
          "shell.execute_reply": "2022-08-28T05:54:29.579Z"
        }
      }
    },
    {
      "cell_type": "code",
      "source": [
        "X.shape, y.shape"
      ],
      "outputs": [
        {
          "output_type": "execute_result",
          "execution_count": 16,
          "data": {
            "text/plain": "((569, 30), (569,))"
          },
          "metadata": {}
        }
      ],
      "execution_count": 16,
      "metadata": {
        "collapsed": true,
        "jupyter": {
          "source_hidden": false,
          "outputs_hidden": false
        },
        "nteract": {
          "transient": {
            "deleting": false
          }
        },
        "execution": {
          "iopub.status.busy": "2022-08-28T05:54:34.812Z",
          "iopub.execute_input": "2022-08-28T05:54:34.818Z",
          "iopub.status.idle": "2022-08-28T05:54:34.832Z",
          "shell.execute_reply": "2022-08-28T05:54:34.835Z"
        }
      }
    },
    {
      "cell_type": "code",
      "source": [
        "X_train, X_test, y_train, y_test = train_test_split(X, y, test_size=0.2, random_state=2)"
      ],
      "outputs": [],
      "execution_count": 17,
      "metadata": {
        "collapsed": true,
        "jupyter": {
          "source_hidden": false,
          "outputs_hidden": false
        },
        "nteract": {
          "transient": {
            "deleting": false
          }
        },
        "execution": {
          "iopub.status.busy": "2022-08-28T05:56:09.054Z",
          "iopub.execute_input": "2022-08-28T05:56:09.057Z",
          "iopub.status.idle": "2022-08-28T05:56:09.068Z",
          "shell.execute_reply": "2022-08-28T05:56:09.077Z"
        }
      }
    },
    {
      "cell_type": "code",
      "source": [
        "X_train.shape, X_test.shape, y_train.shape, y_test.shape"
      ],
      "outputs": [
        {
          "output_type": "execute_result",
          "execution_count": 18,
          "data": {
            "text/plain": "((455, 30), (114, 30), (455,), (114,))"
          },
          "metadata": {}
        }
      ],
      "execution_count": 18,
      "metadata": {
        "collapsed": true,
        "jupyter": {
          "source_hidden": false,
          "outputs_hidden": false
        },
        "nteract": {
          "transient": {
            "deleting": false
          }
        },
        "execution": {
          "iopub.status.busy": "2022-08-28T05:56:29.995Z",
          "iopub.execute_input": "2022-08-28T05:56:29.999Z",
          "iopub.status.idle": "2022-08-28T05:56:30.008Z",
          "shell.execute_reply": "2022-08-28T05:56:30.012Z"
        }
      }
    },
    {
      "cell_type": "code",
      "source": [
        "len(y_train)"
      ],
      "outputs": [
        {
          "output_type": "execute_result",
          "execution_count": 19,
          "data": {
            "text/plain": "455"
          },
          "metadata": {}
        }
      ],
      "execution_count": 19,
      "metadata": {
        "collapsed": true,
        "jupyter": {
          "source_hidden": false,
          "outputs_hidden": false
        },
        "nteract": {
          "transient": {
            "deleting": false
          }
        },
        "execution": {
          "iopub.status.busy": "2022-08-28T05:56:35.585Z",
          "iopub.execute_input": "2022-08-28T05:56:35.594Z",
          "iopub.status.idle": "2022-08-28T05:56:35.605Z",
          "shell.execute_reply": "2022-08-28T05:56:35.609Z"
        }
      }
    },
    {
      "cell_type": "code",
      "source": [
        "import tensorflow as tf\n",
        "tf.random.set_seed(42)\n",
        "from tensorflow import keras"
      ],
      "outputs": [],
      "execution_count": 23,
      "metadata": {
        "collapsed": true,
        "jupyter": {
          "source_hidden": false,
          "outputs_hidden": false
        },
        "nteract": {
          "transient": {
            "deleting": false
          }
        },
        "execution": {
          "iopub.status.busy": "2022-08-28T06:04:03.316Z",
          "iopub.execute_input": "2022-08-28T06:04:03.328Z",
          "iopub.status.idle": "2022-08-28T06:04:03.340Z",
          "shell.execute_reply": "2022-08-28T06:04:03.343Z"
        }
      }
    },
    {
      "cell_type": "code",
      "source": [
        "model = keras.Sequential([\n",
        "  keras.layers.Flatten(input_shape=(30,)),\n",
        "  keras.layers.Dense(20, activation=\"relu\"),\n",
        "  keras.layers.Dense(2, activation=\"sigmoid\"),\n",
        "])"
      ],
      "outputs": [],
      "execution_count": 45,
      "metadata": {
        "collapsed": true,
        "jupyter": {
          "source_hidden": false,
          "outputs_hidden": false
        },
        "nteract": {
          "transient": {
            "deleting": false
          }
        },
        "execution": {
          "iopub.status.busy": "2022-08-28T06:23:00.936Z",
          "iopub.execute_input": "2022-08-28T06:23:00.945Z",
          "iopub.status.idle": "2022-08-28T06:23:00.956Z",
          "shell.execute_reply": "2022-08-28T06:23:00.961Z"
        }
      }
    },
    {
      "cell_type": "code",
      "source": [
        "model.compile(optimizer=\"adam\",\n",
        "              loss=\"sparse_categorical_crossentropy\",\n",
        "              metrics=[\"accuracy\"])"
      ],
      "outputs": [],
      "execution_count": 46,
      "metadata": {
        "collapsed": true,
        "jupyter": {
          "source_hidden": false,
          "outputs_hidden": false
        },
        "nteract": {
          "transient": {
            "deleting": false
          }
        },
        "execution": {
          "iopub.status.busy": "2022-08-28T06:23:01.780Z",
          "iopub.execute_input": "2022-08-28T06:23:01.787Z",
          "iopub.status.idle": "2022-08-28T06:23:01.795Z",
          "shell.execute_reply": "2022-08-28T06:23:01.800Z"
        }
      }
    },
    {
      "cell_type": "code",
      "source": [
        "history = model.fit(X_train, y_train, validation_split=0.1, epochs=50)"
      ],
      "outputs": [
        {
          "output_type": "stream",
          "name": "stdout",
          "text": [
            "Epoch 1/50\n",
            "13/13 [==============================] - 0s 9ms/step - loss: 0.2210 - accuracy: 0.9071 - val_loss: 0.1225 - val_accuracy: 0.9348\b\b\b\b\b\b\b\b\b\b\b\b\b\b\b\b\b\b\b\b\b\b\b\b\b\b\b\b\b\b\b\b\b\b\b\b\n",
            "Epoch 2/50\n",
            "13/13 [==============================] - 0s 6ms/step - loss: 0.2114 - accuracy: 0.9193 - val_loss: 0.0996 - val_accuracy: 0.9565\b\b\b\b\b\b\b\b\b\b\b\b\b\b\b\b\b\b\b\b\b\b\b\b\b\b\b\b\b\b\b\b\b\b\b\b\n",
            "Epoch 3/50\n",
            "13/13 [==============================] - 0s 6ms/step - loss: 0.1981 - accuracy: 0.9218 - val_loss: 0.1074 - val_accuracy: 0.9348\b\b\b\b\b\b\b\b\b\b\b\b\b\b\b\b\b\b\b\b\b\b\b\b\b\b\b\b\b\b\b\b\b\b\b\b\n",
            "Epoch 4/50\n",
            "13/13 [==============================] - 0s 6ms/step - loss: 0.2311 - accuracy: 0.9095 - val_loss: 0.1488 - val_accuracy: 0.9348\b\b\b\b\b\b\b\b\b\b\b\b\b\b\b\b\b\b\b\b\b\b\b\b\b\b\b\b\b\b\b\b\b\b\b\b\n",
            "Epoch 5/50\n",
            "13/13 [==============================] - 0s 5ms/step - loss: 0.1970 - accuracy: 0.9169 - val_loss: 0.1133 - val_accuracy: 0.9565\b\b\b\b\b\b\b\b\b\b\b\b\b\b\b\b\b\b\b\b\b\b\b\b\b\b\b\b\b\b\b\b\b\b\b\b\n",
            "Epoch 6/50\n",
            "13/13 [==============================] - 0s 5ms/step - loss: 0.1946 - accuracy: 0.9169 - val_loss: 0.1011 - val_accuracy: 0.9348\b\b\b\b\b\b\b\b\b\b\b\b\b\b\b\b\b\b\b\b\b\b\b\b\b\b\b\b\b\b\b\b\b\b\b\b\n",
            "Epoch 7/50\n",
            "13/13 [==============================] - 0s 6ms/step - loss: 0.1950 - accuracy: 0.9095 - val_loss: 0.0991 - val_accuracy: 0.9348\b\b\b\b\b\b\b\b\b\b\b\b\b\b\b\b\b\b\b\b\b\b\b\b\b\b\b\b\b\b\b\b\b\b\b\b\n",
            "Epoch 8/50\n",
            "13/13 [==============================] - 0s 6ms/step - loss: 0.1964 - accuracy: 0.9242 - val_loss: 0.1009 - val_accuracy: 0.9348\b\b\b\b\b\b\b\b\b\b\b\b\b\b\b\b\b\b\b\b\b\b\b\b\b\b\b\b\b\b\b\b\b\b\b\b\n",
            "Epoch 9/50\n",
            "13/13 [==============================] - 0s 6ms/step - loss: 0.2152 - accuracy: 0.9193 - val_loss: 0.1050 - val_accuracy: 0.9348\b\b\b\b\b\b\b\b\b\b\b\b\b\b\b\b\b\b\b\b\b\b\b\b\b\b\b\b\b\b\b\b\b\b\b\b\n",
            "Epoch 10/50\n",
            "13/13 [==============================] - 0s 6ms/step - loss: 0.2133 - accuracy: 0.9193 - val_loss: 0.1032 - val_accuracy: 0.9348\b\b\b\b\b\b\b\b\b\b\b\b\b\b\b\b\b\b\b\b\b\b\b\b\b\b\b\b\b\b\b\b\b\b\b\b\n",
            "Epoch 11/50\n",
            "13/13 [==============================] - 0s 6ms/step - loss: 0.1834 - accuracy: 0.9291 - val_loss: 0.1094 - val_accuracy: 0.9130\b\b\b\b\b\b\b\b\b\b\b\b\b\b\b\b\b\b\b\b\b\b\b\b\b\b\b\b\b\b\b\b\b\b\b\b\n",
            "Epoch 12/50\n",
            "13/13 [==============================] - 0s 6ms/step - loss: 0.1834 - accuracy: 0.9291 - val_loss: 0.1059 - val_accuracy: 0.9348\b\b\b\b\b\b\b\b\b\b\b\b\b\b\b\b\b\b\b\b\b\b\b\b\b\b\b\b\b\b\b\b\b\b\b\b\n",
            "Epoch 13/50\n",
            "13/13 [==============================] - 0s 6ms/step - loss: 0.1964 - accuracy: 0.9267 - val_loss: 0.1059 - val_accuracy: 0.9348\b\b\b\b\b\b\b\b\b\b\b\b\b\b\b\b\b\b\b\b\b\b\b\b\b\b\b\b\b\b\b\b\b\b\b\b\n",
            "Epoch 14/50\n",
            "13/13 [==============================] - 0s 6ms/step - loss: 0.1897 - accuracy: 0.9291 - val_loss: 0.1244 - val_accuracy: 0.9348\b\b\b\b\b\b\b\b\b\b\b\b\b\b\b\b\b\b\b\b\b\b\b\b\b\b\b\b\b\b\b\b\b\b\b\b\n",
            "Epoch 15/50\n",
            "13/13 [==============================] - 0s 7ms/step - loss: 0.1765 - accuracy: 0.9291 - val_loss: 0.1084 - val_accuracy: 0.9348\b\b\b\b\b\b\b\b\b\b\b\b\b\b\b\b\b\b\b\b\b\b\b\b\b\b\b\b\b\b\b\b\b\b\b\b\n",
            "Epoch 16/50\n",
            "13/13 [==============================] - 0s 6ms/step - loss: 0.1814 - accuracy: 0.9193 - val_loss: 0.1094 - val_accuracy: 0.9348\b\b\b\b\b\b\b\b\b\b\b\b\b\b\b\b\b\b\b\b\b\b\b\b\b\b\b\b\b\b\b\b\b\b\b\b\n",
            "Epoch 17/50\n",
            "13/13 [==============================] - 0s 6ms/step - loss: 0.2298 - accuracy: 0.9046 - val_loss: 0.1348 - val_accuracy: 0.9565\b\b\b\b\b\b\b\b\b\b\b\b\b\b\b\b\b\b\b\b\b\b\b\b\b\b\b\b\b\b\b\b\b\b\b\b\n",
            "Epoch 18/50\n",
            "13/13 [==============================] - 0s 5ms/step - loss: 0.2435 - accuracy: 0.9022 - val_loss: 0.1763 - val_accuracy: 0.9565\b\b\b\b\b\b\b\b\b\b\b\b\b\b\b\b\b\b\b\b\b\b\b\b\b\b\b\b\b\b\b\b\b\b\b\b\n",
            "Epoch 19/50\n",
            "13/13 [==============================] - 0s 6ms/step - loss: 0.2590 - accuracy: 0.8949 - val_loss: 0.1526 - val_accuracy: 0.9565\b\b\b\b\b\b\b\b\b\b\b\b\b\b\b\b\b\b\b\b\b\b\b\b\b\b\b\b\b\b\b\b\b\b\b\b\n",
            "Epoch 20/50\n",
            "13/13 [==============================] - 0s 6ms/step - loss: 0.2016 - accuracy: 0.9242 - val_loss: 0.1188 - val_accuracy: 0.9348\b\b\b\b\b\b\b\b\b\b\b\b\b\b\b\b\b\b\b\b\b\b\b\b\b\b\b\b\b\b\b\b\b\b\b\b\n",
            "Epoch 21/50\n",
            "13/13 [==============================] - 0s 6ms/step - loss: 0.2059 - accuracy: 0.9169 - val_loss: 0.1070 - val_accuracy: 0.9565\b\b\b\b\b\b\b\b\b\b\b\b\b\b\b\b\b\b\b\b\b\b\b\b\b\b\b\b\b\b\b\b\b\b\b\b\n",
            "Epoch 22/50\n",
            "13/13 [==============================] - 0s 6ms/step - loss: 0.2150 - accuracy: 0.9218 - val_loss: 0.1191 - val_accuracy: 0.9348\b\b\b\b\b\b\b\b\b\b\b\b\b\b\b\b\b\b\b\b\b\b\b\b\b\b\b\b\b\b\b\b\b\b\b\b\n",
            "Epoch 23/50\n",
            "13/13 [==============================] - 0s 6ms/step - loss: 0.2251 - accuracy: 0.9120 - val_loss: 0.1510 - val_accuracy: 0.9348\b\b\b\b\b\b\b\b\b\b\b\b\b\b\b\b\b\b\b\b\b\b\b\b\b\b\b\b\b\b\b\b\b\b\b\b\n",
            "Epoch 24/50\n",
            "13/13 [==============================] - 0s 6ms/step - loss: 0.2168 - accuracy: 0.9144 - val_loss: 0.1054 - val_accuracy: 0.9348\b\b\b\b\b\b\b\b\b\b\b\b\b\b\b\b\b\b\b\b\b\b\b\b\b\b\b\b\b\b\b\b\b\b\b\b\n",
            "Epoch 25/50\n",
            "13/13 [==============================] - 0s 6ms/step - loss: 0.1986 - accuracy: 0.9340 - val_loss: 0.1228 - val_accuracy: 0.9565\b\b\b\b\b\b\b\b\b\b\b\b\b\b\b\b\b\b\b\b\b\b\b\b\b\b\b\b\b\b\b\b\b\b\b\b\n",
            "Epoch 26/50\n",
            "13/13 [==============================] - 0s 6ms/step - loss: 0.2225 - accuracy: 0.9169 - val_loss: 0.1057 - val_accuracy: 0.9348\b\b\b\b\b\b\b\b\b\b\b\b\b\b\b\b\b\b\b\b\b\b\b\b\b\b\b\b\b\b\b\b\b\b\b\b\n",
            "Epoch 27/50\n",
            "13/13 [==============================] - 0s 6ms/step - loss: 0.2000 - accuracy: 0.9169 - val_loss: 0.1075 - val_accuracy: 0.9348\b\b\b\b\b\b\b\b\b\b\b\b\b\b\b\b\b\b\b\b\b\b\b\b\b\b\b\b\b\b\b\b\b\b\b\b\n",
            "Epoch 28/50\n",
            "13/13 [==============================] - 0s 6ms/step - loss: 0.1983 - accuracy: 0.9120 - val_loss: 0.1428 - val_accuracy: 0.9565\b\b\b\b\b\b\b\b\b\b\b\b\b\b\b\b\b\b\b\b\b\b\b\b\b\b\b\b\b\b\b\b\b\b\b\b\n",
            "Epoch 29/50\n",
            "13/13 [==============================] - 0s 6ms/step - loss: 0.1828 - accuracy: 0.9144 - val_loss: 0.1065 - val_accuracy: 0.9565\b\b\b\b\b\b\b\b\b\b\b\b\b\b\b\b\b\b\b\b\b\b\b\b\b\b\b\b\b\b\b\b\b\b\b\b\n",
            "Epoch 30/50\n",
            "13/13 [==============================] - 0s 6ms/step - loss: 0.1742 - accuracy: 0.9340 - val_loss: 0.1163 - val_accuracy: 0.9348\b\b\b\b\b\b\b\b\b\b\b\b\b\b\b\b\b\b\b\b\b\b\b\b\b\b\b\b\b\b\b\b\b\b\b\b\n",
            "Epoch 31/50\n",
            "13/13 [==============================] - 0s 6ms/step - loss: 0.1648 - accuracy: 0.9267 - val_loss: 0.1100 - val_accuracy: 0.9348\b\b\b\b\b\b\b\b\b\b\b\b\b\b\b\b\b\b\b\b\b\b\b\b\b\b\b\b\b\b\b\b\b\b\b\b\n",
            "Epoch 32/50\n",
            "13/13 [==============================] - 0s 6ms/step - loss: 0.1824 - accuracy: 0.9291 - val_loss: 0.1344 - val_accuracy: 0.9348\b\b\b\b\b\b\b\b\b\b\b\b\b\b\b\b\b\b\b\b\b\b\b\b\b\b\b\b\b\b\b\b\b\b\b\b\n",
            "Epoch 33/50\n",
            "13/13 [==============================] - 0s 6ms/step - loss: 0.2265 - accuracy: 0.9046 - val_loss: 0.1134 - val_accuracy: 0.9348\b\b\b\b\b\b\b\b\b\b\b\b\b\b\b\b\b\b\b\b\b\b\b\b\b\b\b\b\b\b\b\b\b\b\b\b\n",
            "Epoch 34/50\n",
            "13/13 [==============================] - 0s 6ms/step - loss: 0.1973 - accuracy: 0.9046 - val_loss: 0.1078 - val_accuracy: 0.9348\b\b\b\b\b\b\b\b\b\b\b\b\b\b\b\b\b\b\b\b\b\b\b\b\b\b\b\b\b\b\b\b\b\b\b\b\n",
            "Epoch 35/50\n",
            "13/13 [==============================] - 0s 6ms/step - loss: 0.1782 - accuracy: 0.9364 - val_loss: 0.1513 - val_accuracy: 0.9348\b\b\b\b\b\b\b\b\b\b\b\b\b\b\b\b\b\b\b\b\b\b\b\b\b\b\b\b\b\b\b\b\b\b\b\b\n",
            "Epoch 36/50\n",
            "13/13 [==============================] - 0s 6ms/step - loss: 0.2134 - accuracy: 0.9169 - val_loss: 0.1617 - val_accuracy: 0.9348\b\b\b\b\b\b\b\b\b\b\b\b\b\b\b\b\b\b\b\b\b\b\b\b\b\b\b\b\b\b\b\b\b\b\b\b\n",
            "Epoch 37/50\n",
            "13/13 [==============================] - 0s 6ms/step - loss: 0.2947 - accuracy: 0.9022 - val_loss: 0.1129 - val_accuracy: 0.9348\b\b\b\b\b\b\b\b\b\b\b\b\b\b\b\b\b\b\b\b\b\b\b\b\b\b\b\b\b\b\b\b\b\b\b\b\n",
            "Epoch 38/50\n",
            "13/13 [==============================] - 0s 6ms/step - loss: 0.2411 - accuracy: 0.9291 - val_loss: 0.1063 - val_accuracy: 0.9348\b\b\b\b\b\b\b\b\b\b\b\b\b\b\b\b\b\b\b\b\b\b\b\b\b\b\b\b\b\b\b\b\b\b\b\b\n",
            "Epoch 39/50\n",
            "13/13 [==============================] - 0s 6ms/step - loss: 0.2158 - accuracy: 0.9193 - val_loss: 0.1043 - val_accuracy: 0.9348\b\b\b\b\b\b\b\b\b\b\b\b\b\b\b\b\b\b\b\b\b\b\b\b\b\b\b\b\b\b\b\b\b\b\b\b\n",
            "Epoch 40/50\n",
            "13/13 [==============================] - 0s 6ms/step - loss: 0.1885 - accuracy: 0.9095 - val_loss: 0.1783 - val_accuracy: 0.9348\b\b\b\b\b\b\b\b\b\b\b\b\b\b\b\b\b\b\b\b\b\b\b\b\b\b\b\b\b\b\b\b\b\b\b\b\n",
            "Epoch 41/50\n",
            "13/13 [==============================] - 0s 6ms/step - loss: 0.2350 - accuracy: 0.8973 - val_loss: 0.1394 - val_accuracy: 0.9348\b\b\b\b\b\b\b\b\b\b\b\b\b\b\b\b\b\b\b\b\b\b\b\b\b\b\b\b\b\b\b\b\b\b\b\b\n",
            "Epoch 42/50\n",
            "13/13 [==============================] - 0s 6ms/step - loss: 0.2002 - accuracy: 0.9193 - val_loss: 0.1001 - val_accuracy: 0.9348\b\b\b\b\b\b\b\b\b\b\b\b\b\b\b\b\b\b\b\b\b\b\b\b\b\b\b\b\b\b\b\b\b\b\b\b\n",
            "Epoch 43/50\n",
            "13/13 [==============================] - 0s 6ms/step - loss: 0.1975 - accuracy: 0.9193 - val_loss: 0.0998 - val_accuracy: 0.9348\b\b\b\b\b\b\b\b\b\b\b\b\b\b\b\b\b\b\b\b\b\b\b\b\b\b\b\b\b\b\b\b\b\b\b\b\n",
            "Epoch 44/50\n",
            "13/13 [==============================] - 0s 6ms/step - loss: 0.1991 - accuracy: 0.9291 - val_loss: 0.1257 - val_accuracy: 0.9565\b\b\b\b\b\b\b\b\b\b\b\b\b\b\b\b\b\b\b\b\b\b\b\b\b\b\b\b\b\b\b\b\b\b\b\b\n",
            "Epoch 45/50\n",
            "13/13 [==============================] - 0s 6ms/step - loss: 0.1692 - accuracy: 0.9315 - val_loss: 0.0997 - val_accuracy: 0.9348\b\b\b\b\b\b\b\b\b\b\b\b\b\b\b\b\b\b\b\b\b\b\b\b\b\b\b\b\b\b\b\b\b\b\b\b\n",
            "Epoch 46/50\n",
            "13/13 [==============================] - 0s 6ms/step - loss: 0.1799 - accuracy: 0.9291 - val_loss: 0.0992 - val_accuracy: 0.9348\b\b\b\b\b\b\b\b\b\b\b\b\b\b\b\b\b\b\b\b\b\b\b\b\b\b\b\b\b\b\b\b\b\b\b\b\n",
            "Epoch 47/50\n",
            "13/13 [==============================] - 0s 6ms/step - loss: 0.1853 - accuracy: 0.9193 - val_loss: 0.1236 - val_accuracy: 0.9348\b\b\b\b\b\b\b\b\b\b\b\b\b\b\b\b\b\b\b\b\b\b\b\b\b\b\b\b\b\b\b\b\b\b\b\b\n",
            "Epoch 48/50\n",
            "13/13 [==============================] - 0s 6ms/step - loss: 0.1869 - accuracy: 0.9315 - val_loss: 0.1324 - val_accuracy: 0.9348\b\b\b\b\b\b\b\b\b\b\b\b\b\b\b\b\b\b\b\b\b\b\b\b\b\b\b\b\b\b\b\b\b\b\b\b\n",
            "Epoch 49/50\n",
            "13/13 [==============================] - 0s 6ms/step - loss: 0.2081 - accuracy: 0.9120 - val_loss: 0.1038 - val_accuracy: 0.9348\b\b\b\b\b\b\b\b\b\b\b\b\b\b\b\b\b\b\b\b\b\b\b\b\b\b\b\b\b\b\b\b\b\b\b\b\n",
            "Epoch 50/50\n",
            "13/13 [==============================] - 0s 6ms/step - loss: 0.1694 - accuracy: 0.9291 - val_loss: 0.0993 - val_accuracy: 0.9565\b\b\b\b\b\b\b\b\b\b\b\b\b\b\b\b\b\b\b\b\b\b\b\b\b\b\b\b\b\b\b\b\b\b\b\b\n"
          ]
        }
      ],
      "execution_count": 32,
      "metadata": {
        "collapsed": true,
        "jupyter": {
          "source_hidden": false,
          "outputs_hidden": false
        },
        "nteract": {
          "transient": {
            "deleting": false
          }
        },
        "execution": {
          "iopub.status.busy": "2022-08-28T06:13:51.819Z",
          "iopub.execute_input": "2022-08-28T06:13:51.825Z",
          "iopub.status.idle": "2022-08-28T06:13:55.670Z",
          "shell.execute_reply": "2022-08-28T06:13:55.684Z"
        }
      }
    },
    {
      "cell_type": "code",
      "source": [
        "history.history"
      ],
      "outputs": [
        {
          "output_type": "execute_result",
          "execution_count": 33,
          "data": {
            "text/plain": "{'loss': [0.2209533452987671,\n  0.21141590178012848,\n  0.19805924594402313,\n  0.23113365471363068,\n  0.19696083664894104,\n  0.1945716142654419,\n  0.19501225650310516,\n  0.19643183052539825,\n  0.21524643898010254,\n  0.21331943571567535,\n  0.18337541818618774,\n  0.18339774012565613,\n  0.19642062485218048,\n  0.18967299163341522,\n  0.17654617130756378,\n  0.18144585192203522,\n  0.2298312932252884,\n  0.24354331195354462,\n  0.25896409153938293,\n  0.20158939063549042,\n  0.20592819154262543,\n  0.21500703692436218,\n  0.22508862614631653,\n  0.21681395173072815,\n  0.19861990213394165,\n  0.2225445955991745,\n  0.1999702751636505,\n  0.19827762246131897,\n  0.18275366723537445,\n  0.1742234230041504,\n  0.16482087969779968,\n  0.18242928385734558,\n  0.2264660745859146,\n  0.1972629427909851,\n  0.17820405960083008,\n  0.21335946023464203,\n  0.2946752905845642,\n  0.24108339846134186,\n  0.215770423412323,\n  0.1884523630142212,\n  0.2350139021873474,\n  0.2001596987247467,\n  0.19749437272548676,\n  0.19912992417812347,\n  0.16915474832057953,\n  0.17986136674880981,\n  0.1853068470954895,\n  0.18686223030090332,\n  0.20814049243927002,\n  0.1693725436925888],\n 'accuracy': [0.9070904850959778,\n  0.9193154573440552,\n  0.9217604398727417,\n  0.9095354676246643,\n  0.9168704748153687,\n  0.9168704748153687,\n  0.9095354676246643,\n  0.9242054224014282,\n  0.9193154573440552,\n  0.9193154573440552,\n  0.9290953874588013,\n  0.9290953874588013,\n  0.9266504049301147,\n  0.9290953874588013,\n  0.9290953874588013,\n  0.9193154573440552,\n  0.9046455025672913,\n  0.9022005200386047,\n  0.8948655724525452,\n  0.9242054224014282,\n  0.9168704748153687,\n  0.9217604398727417,\n  0.9119805097579956,\n  0.9144254922866821,\n  0.9339853525161743,\n  0.9168704748153687,\n  0.9168704748153687,\n  0.9119805097579956,\n  0.9144254922866821,\n  0.9339853525161743,\n  0.9266504049301147,\n  0.9290953874588013,\n  0.9046455025672913,\n  0.9046455025672913,\n  0.9364303350448608,\n  0.9168704748153687,\n  0.9022005200386047,\n  0.9290953874588013,\n  0.9193154573440552,\n  0.9095354676246643,\n  0.8973105549812317,\n  0.9193154573440552,\n  0.9193154573440552,\n  0.9290953874588013,\n  0.9315403699874878,\n  0.9290953874588013,\n  0.9193154573440552,\n  0.9315403699874878,\n  0.9119805097579956,\n  0.9290953874588013],\n 'val_loss': [0.12249202281236649,\n  0.09964956343173981,\n  0.10742669552564621,\n  0.14877566695213318,\n  0.11331166326999664,\n  0.10114547610282898,\n  0.09914983063936234,\n  0.10093127191066742,\n  0.10498332232236862,\n  0.10321342945098877,\n  0.10939791798591614,\n  0.10593386739492416,\n  0.10588567703962326,\n  0.12435827404260635,\n  0.10840052366256714,\n  0.10943908244371414,\n  0.1347518414258957,\n  0.17627334594726562,\n  0.1525854617357254,\n  0.11876584589481354,\n  0.10699363797903061,\n  0.1191219910979271,\n  0.1509617120027542,\n  0.10540411621332169,\n  0.12284605950117111,\n  0.10567672550678253,\n  0.10750134289264679,\n  0.14282137155532837,\n  0.10648763924837112,\n  0.11626996099948883,\n  0.10995159298181534,\n  0.1344493329524994,\n  0.1134423017501831,\n  0.10775244981050491,\n  0.1513327658176422,\n  0.16170744597911835,\n  0.11287209391593933,\n  0.1062907874584198,\n  0.10425609350204468,\n  0.17834794521331787,\n  0.13939169049263,\n  0.10010795295238495,\n  0.0998089537024498,\n  0.12569136917591095,\n  0.09973488748073578,\n  0.09917962551116943,\n  0.12357033789157867,\n  0.13239683210849762,\n  0.1038067638874054,\n  0.09927449375391006],\n 'val_accuracy': [0.9347826242446899,\n  0.95652174949646,\n  0.9347826242446899,\n  0.9347826242446899,\n  0.95652174949646,\n  0.9347826242446899,\n  0.9347826242446899,\n  0.9347826242446899,\n  0.9347826242446899,\n  0.9347826242446899,\n  0.9130434989929199,\n  0.9347826242446899,\n  0.9347826242446899,\n  0.9347826242446899,\n  0.9347826242446899,\n  0.9347826242446899,\n  0.95652174949646,\n  0.95652174949646,\n  0.95652174949646,\n  0.9347826242446899,\n  0.95652174949646,\n  0.9347826242446899,\n  0.9347826242446899,\n  0.9347826242446899,\n  0.95652174949646,\n  0.9347826242446899,\n  0.9347826242446899,\n  0.95652174949646,\n  0.95652174949646,\n  0.9347826242446899,\n  0.9347826242446899,\n  0.9347826242446899,\n  0.9347826242446899,\n  0.9347826242446899,\n  0.9347826242446899,\n  0.9347826242446899,\n  0.9347826242446899,\n  0.9347826242446899,\n  0.9347826242446899,\n  0.9347826242446899,\n  0.9347826242446899,\n  0.9347826242446899,\n  0.9347826242446899,\n  0.95652174949646,\n  0.9347826242446899,\n  0.9347826242446899,\n  0.9347826242446899,\n  0.9347826242446899,\n  0.9347826242446899,\n  0.95652174949646]}"
          },
          "metadata": {}
        }
      ],
      "execution_count": 33,
      "metadata": {
        "collapsed": true,
        "jupyter": {
          "source_hidden": false,
          "outputs_hidden": false
        },
        "nteract": {
          "transient": {
            "deleting": false
          }
        },
        "execution": {
          "iopub.status.busy": "2022-08-28T06:14:00.578Z",
          "iopub.execute_input": "2022-08-28T06:14:00.582Z",
          "iopub.status.idle": "2022-08-28T06:14:00.596Z",
          "shell.execute_reply": "2022-08-28T06:14:00.600Z"
        }
      }
    },
    {
      "cell_type": "code",
      "source": [
        "from sklearn.preprocessing import StandardScaler"
      ],
      "outputs": [],
      "execution_count": 35,
      "metadata": {
        "collapsed": true,
        "jupyter": {
          "source_hidden": false,
          "outputs_hidden": false
        },
        "nteract": {
          "transient": {
            "deleting": false
          }
        },
        "execution": {
          "iopub.status.busy": "2022-08-28T06:14:45.158Z",
          "iopub.execute_input": "2022-08-28T06:14:45.166Z",
          "iopub.status.idle": "2022-08-28T06:14:45.177Z",
          "shell.execute_reply": "2022-08-28T06:14:45.185Z"
        }
      }
    },
    {
      "cell_type": "code",
      "source": [
        "scaler = StandardScaler()\n",
        "X_train_std = scaler.fit_transform(X_train)\n",
        "X_test_std = scaler.transform(X_test)"
      ],
      "outputs": [],
      "execution_count": 36,
      "metadata": {
        "collapsed": true,
        "jupyter": {
          "source_hidden": false,
          "outputs_hidden": false
        },
        "nteract": {
          "transient": {
            "deleting": false
          }
        },
        "execution": {
          "iopub.status.busy": "2022-08-28T06:15:48.655Z",
          "iopub.execute_input": "2022-08-28T06:15:48.660Z",
          "iopub.status.idle": "2022-08-28T06:15:48.667Z",
          "shell.execute_reply": "2022-08-28T06:15:48.671Z"
        }
      }
    },
    {
      "cell_type": "code",
      "source": [
        "X_train_std"
      ],
      "outputs": [
        {
          "output_type": "execute_result",
          "execution_count": 37,
          "data": {
            "text/plain": "array([[-0.01330339,  1.7757658 , -0.01491962, ..., -0.13236958,\n        -1.08014517, -0.03527943],\n       [-0.8448276 , -0.6284278 , -0.87702746, ..., -1.11552632,\n        -0.85773964, -0.72098905],\n       [ 1.44755936,  0.71180168,  1.47428816, ...,  0.87583964,\n         0.4967602 ,  0.46321706],\n       ...,\n       [-0.46608541, -1.49375484, -0.53234924, ..., -1.32388956,\n        -1.02997851, -0.75145272],\n       [-0.50025764, -1.62161319, -0.527814  , ..., -0.0987626 ,\n         0.35796577, -0.43906159],\n       [ 0.96060511,  1.21181916,  1.00427242, ...,  0.8956983 ,\n        -1.23064515,  0.50697397]])"
          },
          "metadata": {}
        }
      ],
      "execution_count": 37,
      "metadata": {
        "collapsed": true,
        "jupyter": {
          "source_hidden": false,
          "outputs_hidden": false
        },
        "nteract": {
          "transient": {
            "deleting": false
          }
        },
        "execution": {
          "iopub.status.busy": "2022-08-28T06:15:54.641Z",
          "iopub.execute_input": "2022-08-28T06:15:54.647Z",
          "iopub.status.idle": "2022-08-28T06:15:54.660Z",
          "shell.execute_reply": "2022-08-28T06:15:54.664Z"
        }
      }
    },
    {
      "cell_type": "code",
      "source": [
        "history_std = model.fit(X_train_std, y_train, validation_split=0.1, epochs=50)"
      ],
      "outputs": [
        {
          "output_type": "stream",
          "name": "stdout",
          "text": [
            "Epoch 1/50\n",
            "13/13 [==============================] - 0s 14ms/step - loss: 1.0715 - accuracy: 0.4279 - val_loss: 0.8075 - val_accuracy: 0.5870\b\b\b\b\b\b\b\b\b\b\b\b\b\b\b\b\b\b\b\b\b\b\b\b\b\b\b\b\b\b\b\b\b\b\b\n",
            "Epoch 2/50\n",
            "13/13 [==============================] - 0s 6ms/step - loss: 0.7150 - accuracy: 0.6699 - val_loss: 0.5526 - val_accuracy: 0.7609\b\b\b\b\b\b\b\b\b\b\b\b\b\b\b\b\b\b\b\b\b\b\b\b\b\b\b\b\b\b\b\b\b\b\b\b\n",
            "Epoch 3/50\n",
            "13/13 [==============================] - 0s 6ms/step - loss: 0.5022 - accuracy: 0.7995 - val_loss: 0.4003 - val_accuracy: 0.8913\b\b\b\b\b\b\b\b\b\b\b\b\b\b\b\b\b\b\b\b\b\b\b\b\b\b\b\b\b\b\b\b\b\b\b\b\n",
            "Epoch 4/50\n",
            "13/13 [==============================] - 0s 6ms/step - loss: 0.3813 - accuracy: 0.8435 - val_loss: 0.3112 - val_accuracy: 0.9130\b\b\b\b\b\b\b\b\b\b\b\b\b\b\b\b\b\b\b\b\b\b\b\b\b\b\b\b\b\b\b\b\b\b\b\b\n",
            "Epoch 5/50\n",
            "13/13 [==============================] - 0s 6ms/step - loss: 0.3063 - accuracy: 0.8826 - val_loss: 0.2552 - val_accuracy: 0.9348\b\b\b\b\b\b\b\b\b\b\b\b\b\b\b\b\b\b\b\b\b\b\b\b\b\b\b\b\b\b\b\b\b\b\b\b\n",
            "Epoch 6/50\n",
            "13/13 [==============================] - 0s 6ms/step - loss: 0.2527 - accuracy: 0.9193 - val_loss: 0.2178 - val_accuracy: 0.9348\b\b\b\b\b\b\b\b\b\b\b\b\b\b\b\b\b\b\b\b\b\b\b\b\b\b\b\b\b\b\b\b\b\b\b\b\n",
            "Epoch 7/50\n",
            "13/13 [==============================] - 0s 6ms/step - loss: 0.2177 - accuracy: 0.9242 - val_loss: 0.1896 - val_accuracy: 0.9565\b\b\b\b\b\b\b\b\b\b\b\b\b\b\b\b\b\b\b\b\b\b\b\b\b\b\b\b\b\b\b\b\b\b\b\b\n",
            "Epoch 8/50\n",
            "13/13 [==============================] - 0s 6ms/step - loss: 0.1901 - accuracy: 0.9413 - val_loss: 0.1693 - val_accuracy: 0.9565\b\b\b\b\b\b\b\b\b\b\b\b\b\b\b\b\b\b\b\b\b\b\b\b\b\b\b\b\b\b\b\b\b\b\b\b\n",
            "Epoch 9/50\n",
            "13/13 [==============================] - 0s 6ms/step - loss: 0.1705 - accuracy: 0.9560 - val_loss: 0.1520 - val_accuracy: 0.9565\b\b\b\b\b\b\b\b\b\b\b\b\b\b\b\b\b\b\b\b\b\b\b\b\b\b\b\b\b\b\b\b\b\b\b\b\n",
            "Epoch 10/50\n",
            "13/13 [==============================] - 0s 6ms/step - loss: 0.1551 - accuracy: 0.9584 - val_loss: 0.1397 - val_accuracy: 0.9565\b\b\b\b\b\b\b\b\b\b\b\b\b\b\b\b\b\b\b\b\b\b\b\b\b\b\b\b\b\b\b\b\b\b\b\b\n",
            "Epoch 11/50\n",
            "13/13 [==============================] - 0s 6ms/step - loss: 0.1434 - accuracy: 0.9658 - val_loss: 0.1288 - val_accuracy: 0.9565\b\b\b\b\b\b\b\b\b\b\b\b\b\b\b\b\b\b\b\b\b\b\b\b\b\b\b\b\b\b\b\b\b\b\b\b\n",
            "Epoch 12/50\n",
            "13/13 [==============================] - 0s 6ms/step - loss: 0.1333 - accuracy: 0.9682 - val_loss: 0.1197 - val_accuracy: 0.9565\b\b\b\b\b\b\b\b\b\b\b\b\b\b\b\b\b\b\b\b\b\b\b\b\b\b\b\b\b\b\b\b\b\b\b\b\n",
            "Epoch 13/50\n",
            "13/13 [==============================] - 0s 6ms/step - loss: 0.1257 - accuracy: 0.9707 - val_loss: 0.1120 - val_accuracy: 0.9565\b\b\b\b\b\b\b\b\b\b\b\b\b\b\b\b\b\b\b\b\b\b\b\b\b\b\b\b\b\b\b\b\b\b\b\b\n",
            "Epoch 14/50\n",
            "13/13 [==============================] - 0s 5ms/step - loss: 0.1184 - accuracy: 0.9707 - val_loss: 0.1061 - val_accuracy: 0.9565\b\b\b\b\b\b\b\b\b\b\b\b\b\b\b\b\b\b\b\b\b\b\b\b\b\b\b\b\b\b\b\b\b\b\b\b\n",
            "Epoch 15/50\n",
            "13/13 [==============================] - 0s 6ms/step - loss: 0.1121 - accuracy: 0.9731 - val_loss: 0.1012 - val_accuracy: 0.9783\b\b\b\b\b\b\b\b\b\b\b\b\b\b\b\b\b\b\b\b\b\b\b\b\b\b\b\b\b\b\b\b\b\b\b\b\n",
            "Epoch 16/50\n",
            "13/13 [==============================] - 0s 5ms/step - loss: 0.1069 - accuracy: 0.9731 - val_loss: 0.0960 - val_accuracy: 0.9783\b\b\b\b\b\b\b\b\b\b\b\b\b\b\b\b\b\b\b\b\b\b\b\b\b\b\b\b\b\b\b\b\b\b\b\b\n",
            "Epoch 17/50\n",
            "13/13 [==============================] - 0s 6ms/step - loss: 0.1019 - accuracy: 0.9731 - val_loss: 0.0920 - val_accuracy: 0.9783\b\b\b\b\b\b\b\b\b\b\b\b\b\b\b\b\b\b\b\b\b\b\b\b\b\b\b\b\b\b\b\b\b\b\b\b\n",
            "Epoch 18/50\n",
            "13/13 [==============================] - 0s 6ms/step - loss: 0.0976 - accuracy: 0.9731 - val_loss: 0.0885 - val_accuracy: 0.9783\b\b\b\b\b\b\b\b\b\b\b\b\b\b\b\b\b\b\b\b\b\b\b\b\b\b\b\b\b\b\b\b\b\b\b\b\n",
            "Epoch 19/50\n",
            "13/13 [==============================] - 0s 6ms/step - loss: 0.0934 - accuracy: 0.9756 - val_loss: 0.0853 - val_accuracy: 0.9783\b\b\b\b\b\b\b\b\b\b\b\b\b\b\b\b\b\b\b\b\b\b\b\b\b\b\b\b\b\b\b\b\b\b\b\b\n",
            "Epoch 20/50\n",
            "13/13 [==============================] - 0s 6ms/step - loss: 0.0897 - accuracy: 0.9829 - val_loss: 0.0818 - val_accuracy: 0.9783\b\b\b\b\b\b\b\b\b\b\b\b\b\b\b\b\b\b\b\b\b\b\b\b\b\b\b\b\b\b\b\b\b\b\b\b\n",
            "Epoch 21/50\n",
            "13/13 [==============================] - 0s 5ms/step - loss: 0.0863 - accuracy: 0.9829 - val_loss: 0.0797 - val_accuracy: 0.9783\b\b\b\b\b\b\b\b\b\b\b\b\b\b\b\b\b\b\b\b\b\b\b\b\b\b\b\b\b\b\b\b\b\b\b\b\n",
            "Epoch 22/50\n",
            "13/13 [==============================] - 0s 6ms/step - loss: 0.0831 - accuracy: 0.9829 - val_loss: 0.0773 - val_accuracy: 0.9783\b\b\b\b\b\b\b\b\b\b\b\b\b\b\b\b\b\b\b\b\b\b\b\b\b\b\b\b\b\b\b\b\b\b\b\b\n",
            "Epoch 23/50\n",
            "13/13 [==============================] - 0s 5ms/step - loss: 0.0801 - accuracy: 0.9829 - val_loss: 0.0750 - val_accuracy: 0.9783\b\b\b\b\b\b\b\b\b\b\b\b\b\b\b\b\b\b\b\b\b\b\b\b\b\b\b\b\b\b\b\b\b\b\b\b\n",
            "Epoch 24/50\n",
            "13/13 [==============================] - 0s 5ms/step - loss: 0.0775 - accuracy: 0.9829 - val_loss: 0.0731 - val_accuracy: 0.9783\b\b\b\b\b\b\b\b\b\b\b\b\b\b\b\b\b\b\b\b\b\b\b\b\b\b\b\b\b\b\b\b\b\b\b\b\n",
            "Epoch 25/50\n",
            "13/13 [==============================] - 0s 5ms/step - loss: 0.0747 - accuracy: 0.9829 - val_loss: 0.0710 - val_accuracy: 0.9783\b\b\b\b\b\b\b\b\b\b\b\b\b\b\b\b\b\b\b\b\b\b\b\b\b\b\b\b\b\b\b\b\b\b\b\b\n",
            "Epoch 26/50\n",
            "13/13 [==============================] - 0s 6ms/step - loss: 0.0722 - accuracy: 0.9853 - val_loss: 0.0693 - val_accuracy: 0.9783\b\b\b\b\b\b\b\b\b\b\b\b\b\b\b\b\b\b\b\b\b\b\b\b\b\b\b\b\b\b\b\b\b\b\b\b\n",
            "Epoch 27/50\n",
            "13/13 [==============================] - 0s 6ms/step - loss: 0.0700 - accuracy: 0.9878 - val_loss: 0.0681 - val_accuracy: 0.9783\b\b\b\b\b\b\b\b\b\b\b\b\b\b\b\b\b\b\b\b\b\b\b\b\b\b\b\b\b\b\b\b\b\b\b\b\n",
            "Epoch 28/50\n",
            "13/13 [==============================] - 0s 5ms/step - loss: 0.0679 - accuracy: 0.9878 - val_loss: 0.0663 - val_accuracy: 0.9783\b\b\b\b\b\b\b\b\b\b\b\b\b\b\b\b\b\b\b\b\b\b\b\b\b\b\b\b\b\b\b\b\b\b\b\b\n",
            "Epoch 29/50\n",
            "13/13 [==============================] - 0s 6ms/step - loss: 0.0659 - accuracy: 0.9878 - val_loss: 0.0648 - val_accuracy: 0.9783\b\b\b\b\b\b\b\b\b\b\b\b\b\b\b\b\b\b\b\b\b\b\b\b\b\b\b\b\b\b\b\b\b\b\b\b\n",
            "Epoch 30/50\n",
            "13/13 [==============================] - 0s 7ms/step - loss: 0.0641 - accuracy: 0.9878 - val_loss: 0.0637 - val_accuracy: 0.9783\b\b\b\b\b\b\b\b\b\b\b\b\b\b\b\b\b\b\b\b\b\b\b\b\b\b\b\b\b\b\b\b\b\b\b\b\n",
            "Epoch 31/50\n",
            "13/13 [==============================] - 0s 6ms/step - loss: 0.0623 - accuracy: 0.9878 - val_loss: 0.0620 - val_accuracy: 0.9783\b\b\b\b\b\b\b\b\b\b\b\b\b\b\b\b\b\b\b\b\b\b\b\b\b\b\b\b\b\b\b\b\b\b\b\b\n",
            "Epoch 32/50\n",
            "13/13 [==============================] - 0s 6ms/step - loss: 0.0607 - accuracy: 0.9878 - val_loss: 0.0610 - val_accuracy: 0.9783\b\b\b\b\b\b\b\b\b\b\b\b\b\b\b\b\b\b\b\b\b\b\b\b\b\b\b\b\b\b\b\b\b\b\b\b\n",
            "Epoch 33/50\n",
            "13/13 [==============================] - 0s 6ms/step - loss: 0.0593 - accuracy: 0.9878 - val_loss: 0.0590 - val_accuracy: 0.9783\b\b\b\b\b\b\b\b\b\b\b\b\b\b\b\b\b\b\b\b\b\b\b\b\b\b\b\b\b\b\b\b\b\b\b\b\n",
            "Epoch 34/50\n",
            "13/13 [==============================] - 0s 6ms/step - loss: 0.0577 - accuracy: 0.9878 - val_loss: 0.0585 - val_accuracy: 0.9783\b\b\b\b\b\b\b\b\b\b\b\b\b\b\b\b\b\b\b\b\b\b\b\b\b\b\b\b\b\b\b\b\b\b\b\b\n",
            "Epoch 35/50\n",
            "13/13 [==============================] - 0s 6ms/step - loss: 0.0563 - accuracy: 0.9878 - val_loss: 0.0575 - val_accuracy: 0.9783\b\b\b\b\b\b\b\b\b\b\b\b\b\b\b\b\b\b\b\b\b\b\b\b\b\b\b\b\b\b\b\b\b\b\b\b\n",
            "Epoch 36/50\n",
            "13/13 [==============================] - 0s 6ms/step - loss: 0.0551 - accuracy: 0.9878 - val_loss: 0.0561 - val_accuracy: 0.9783\b\b\b\b\b\b\b\b\b\b\b\b\b\b\b\b\b\b\b\b\b\b\b\b\b\b\b\b\b\b\b\b\b\b\b\b\n",
            "Epoch 37/50\n",
            "13/13 [==============================] - 0s 6ms/step - loss: 0.0538 - accuracy: 0.9878 - val_loss: 0.0554 - val_accuracy: 0.9783\b\b\b\b\b\b\b\b\b\b\b\b\b\b\b\b\b\b\b\b\b\b\b\b\b\b\b\b\b\b\b\b\b\b\b\b\n",
            "Epoch 38/50\n",
            "13/13 [==============================] - 0s 6ms/step - loss: 0.0526 - accuracy: 0.9878 - val_loss: 0.0543 - val_accuracy: 0.9783\b\b\b\b\b\b\b\b\b\b\b\b\b\b\b\b\b\b\b\b\b\b\b\b\b\b\b\b\b\b\b\b\b\b\b\b\n",
            "Epoch 39/50\n",
            "13/13 [==============================] - 0s 6ms/step - loss: 0.0515 - accuracy: 0.9902 - val_loss: 0.0537 - val_accuracy: 0.9783\b\b\b\b\b\b\b\b\b\b\b\b\b\b\b\b\b\b\b\b\b\b\b\b\b\b\b\b\b\b\b\b\b\b\b\b\n",
            "Epoch 40/50\n",
            "13/13 [==============================] - 0s 6ms/step - loss: 0.0505 - accuracy: 0.9902 - val_loss: 0.0524 - val_accuracy: 0.9783\b\b\b\b\b\b\b\b\b\b\b\b\b\b\b\b\b\b\b\b\b\b\b\b\b\b\b\b\b\b\b\b\b\b\b\b\n",
            "Epoch 41/50\n",
            "13/13 [==============================] - 0s 6ms/step - loss: 0.0495 - accuracy: 0.9902 - val_loss: 0.0519 - val_accuracy: 0.9783\b\b\b\b\b\b\b\b\b\b\b\b\b\b\b\b\b\b\b\b\b\b\b\b\b\b\b\b\b\b\b\b\b\b\b\b\n",
            "Epoch 42/50\n",
            "13/13 [==============================] - 0s 6ms/step - loss: 0.0485 - accuracy: 0.9902 - val_loss: 0.0515 - val_accuracy: 0.9783\b\b\b\b\b\b\b\b\b\b\b\b\b\b\b\b\b\b\b\b\b\b\b\b\b\b\b\b\b\b\b\b\b\b\b\b\n",
            "Epoch 43/50\n",
            "13/13 [==============================] - 0s 6ms/step - loss: 0.0476 - accuracy: 0.9902 - val_loss: 0.0508 - val_accuracy: 0.9783\b\b\b\b\b\b\b\b\b\b\b\b\b\b\b\b\b\b\b\b\b\b\b\b\b\b\b\b\b\b\b\b\b\b\b\b\n",
            "Epoch 44/50\n",
            "13/13 [==============================] - 0s 6ms/step - loss: 0.0466 - accuracy: 0.9902 - val_loss: 0.0503 - val_accuracy: 0.9783\b\b\b\b\b\b\b\b\b\b\b\b\b\b\b\b\b\b\b\b\b\b\b\b\b\b\b\b\b\b\b\b\b\b\b\b\n",
            "Epoch 45/50\n",
            "13/13 [==============================] - 0s 6ms/step - loss: 0.0457 - accuracy: 0.9902 - val_loss: 0.0494 - val_accuracy: 0.9783\b\b\b\b\b\b\b\b\b\b\b\b\b\b\b\b\b\b\b\b\b\b\b\b\b\b\b\b\b\b\b\b\b\b\b\b\n",
            "Epoch 46/50\n",
            "13/13 [==============================] - 0s 6ms/step - loss: 0.0449 - accuracy: 0.9902 - val_loss: 0.0489 - val_accuracy: 0.9783\b\b\b\b\b\b\b\b\b\b\b\b\b\b\b\b\b\b\b\b\b\b\b\b\b\b\b\b\b\b\b\b\b\b\b\b\n",
            "Epoch 47/50\n",
            "13/13 [==============================] - 0s 6ms/step - loss: 0.0440 - accuracy: 0.9927 - val_loss: 0.0482 - val_accuracy: 0.9783\b\b\b\b\b\b\b\b\b\b\b\b\b\b\b\b\b\b\b\b\b\b\b\b\b\b\b\b\b\b\b\b\b\b\b\b\n",
            "Epoch 48/50\n",
            "13/13 [==============================] - 0s 6ms/step - loss: 0.0434 - accuracy: 0.9927 - val_loss: 0.0481 - val_accuracy: 0.9783\b\b\b\b\b\b\b\b\b\b\b\b\b\b\b\b\b\b\b\b\b\b\b\b\b\b\b\b\b\b\b\b\b\b\b\b\n",
            "Epoch 49/50\n",
            "13/13 [==============================] - 0s 6ms/step - loss: 0.0425 - accuracy: 0.9927 - val_loss: 0.0470 - val_accuracy: 0.9783\b\b\b\b\b\b\b\b\b\b\b\b\b\b\b\b\b\b\b\b\b\b\b\b\b\b\b\b\b\b\b\b\b\b\b\b\n",
            "Epoch 50/50\n",
            "13/13 [==============================] - 0s 6ms/step - loss: 0.0417 - accuracy: 0.9927 - val_loss: 0.0467 - val_accuracy: 0.9783\b\b\b\b\b\b\b\b\b\b\b\b\b\b\b\b\b\b\b\b\b\b\b\b\b\b\b\b\b\b\b\b\b\b\b\b\n"
          ]
        },
        {
          "output_type": "stream",
          "name": "stderr",
          "text": [
            "2022-08-28 11:53:06.451278: I tensorflow/core/grappler/optimizers/custom_graph_optimizer_registry.cc:113] Plugin optimizer for device_type GPU is enabled.\n",
            "2022-08-28 11:53:06.634706: I tensorflow/core/grappler/optimizers/custom_graph_optimizer_registry.cc:113] Plugin optimizer for device_type GPU is enabled.\n"
          ]
        }
      ],
      "execution_count": 47,
      "metadata": {
        "collapsed": true,
        "jupyter": {
          "source_hidden": false,
          "outputs_hidden": false
        },
        "nteract": {
          "transient": {
            "deleting": false
          }
        },
        "execution": {
          "iopub.status.busy": "2022-08-28T06:23:06.466Z",
          "iopub.execute_input": "2022-08-28T06:23:06.474Z",
          "iopub.status.idle": "2022-08-28T06:23:10.408Z",
          "shell.execute_reply": "2022-08-28T06:23:10.413Z"
        }
      }
    },
    {
      "cell_type": "code",
      "source": [
        "history_std.history"
      ],
      "outputs": [
        {
          "output_type": "execute_result",
          "execution_count": 48,
          "data": {
            "text/plain": "{'loss': [1.0714856386184692,\n  0.7149996757507324,\n  0.5022171139717102,\n  0.38134005665779114,\n  0.3062962293624878,\n  0.25269725918769836,\n  0.21767278015613556,\n  0.19007988274097443,\n  0.17053255438804626,\n  0.1551087200641632,\n  0.14342182874679565,\n  0.1333472579717636,\n  0.12566585838794708,\n  0.11837176233530045,\n  0.11211711913347244,\n  0.10687290132045746,\n  0.10189412534236908,\n  0.09756771475076675,\n  0.09340403974056244,\n  0.0896729901432991,\n  0.08634606003761292,\n  0.08309835195541382,\n  0.08011525869369507,\n  0.07747034728527069,\n  0.0747324675321579,\n  0.07223078608512878,\n  0.07002905756235123,\n  0.06790228188037872,\n  0.06587433815002441,\n  0.0640672817826271,\n  0.06225946173071861,\n  0.06070353090763092,\n  0.059276193380355835,\n  0.05770670622587204,\n  0.05634690821170807,\n  0.05506300926208496,\n  0.05384199693799019,\n  0.052615050226449966,\n  0.051544904708862305,\n  0.05053383857011795,\n  0.04951958358287811,\n  0.04845833405852318,\n  0.047590047121047974,\n  0.04661736637353897,\n  0.04566754028201103,\n  0.044855374842882156,\n  0.04399413987994194,\n  0.04336119443178177,\n  0.04253171384334564,\n  0.041683804243803024],\n 'accuracy': [0.4278728663921356,\n  0.6699267029762268,\n  0.7995110154151917,\n  0.8435208201408386,\n  0.8826406002044678,\n  0.9193154573440552,\n  0.9242054224014282,\n  0.9413203597068787,\n  0.9559902548789978,\n  0.9584352374076843,\n  0.9657701849937439,\n  0.9682152271270752,\n  0.9706602096557617,\n  0.9706602096557617,\n  0.9731051921844482,\n  0.9731051921844482,\n  0.9731051921844482,\n  0.9731051921844482,\n  0.9755501747131348,\n  0.9828851222991943,\n  0.9828851222991943,\n  0.9828851222991943,\n  0.9828851222991943,\n  0.9828851222991943,\n  0.9828851222991943,\n  0.9853301048278809,\n  0.9877750873565674,\n  0.9877750873565674,\n  0.9877750873565674,\n  0.9877750873565674,\n  0.9877750873565674,\n  0.9877750873565674,\n  0.9877750873565674,\n  0.9877750873565674,\n  0.9877750873565674,\n  0.9877750873565674,\n  0.9877750873565674,\n  0.9877750873565674,\n  0.9902200698852539,\n  0.9902200698852539,\n  0.9902200698852539,\n  0.9902200698852539,\n  0.9902200698852539,\n  0.9902200698852539,\n  0.9902200698852539,\n  0.9902200698852539,\n  0.9926650524139404,\n  0.9926650524139404,\n  0.9926650524139404,\n  0.9926650524139404],\n 'val_loss': [0.8074730634689331,\n  0.5526264309883118,\n  0.40029680728912354,\n  0.3111675977706909,\n  0.25524866580963135,\n  0.21778836846351624,\n  0.1895536631345749,\n  0.1692977249622345,\n  0.1520373374223709,\n  0.13970935344696045,\n  0.1287624090909958,\n  0.11970634013414383,\n  0.11197793483734131,\n  0.10610213875770569,\n  0.10117491334676743,\n  0.09603581577539444,\n  0.09198112040758133,\n  0.08853675425052643,\n  0.08527921885251999,\n  0.08181217312812805,\n  0.07974303513765335,\n  0.07728030532598495,\n  0.07501903176307678,\n  0.07314901053905487,\n  0.07096187025308609,\n  0.06928140670061111,\n  0.06813029944896698,\n  0.06629172712564468,\n  0.06484674662351608,\n  0.06371402740478516,\n  0.062044136226177216,\n  0.06102323532104492,\n  0.0590284988284111,\n  0.0585353784263134,\n  0.057539038360118866,\n  0.05605701357126236,\n  0.05543563887476921,\n  0.054282501339912415,\n  0.053704116493463516,\n  0.052434928715229034,\n  0.05185006931424141,\n  0.05147944390773773,\n  0.050795700401067734,\n  0.05031910166144371,\n  0.04944801330566406,\n  0.04894024506211281,\n  0.04816483333706856,\n  0.04805035889148712,\n  0.0470462366938591,\n  0.046680595725774765],\n 'val_accuracy': [0.5869565606117249,\n  0.760869562625885,\n  0.8913043737411499,\n  0.9130434989929199,\n  0.9347826242446899,\n  0.9347826242446899,\n  0.95652174949646,\n  0.95652174949646,\n  0.95652174949646,\n  0.95652174949646,\n  0.95652174949646,\n  0.95652174949646,\n  0.95652174949646,\n  0.95652174949646,\n  0.97826087474823,\n  0.97826087474823,\n  0.97826087474823,\n  0.97826087474823,\n  0.97826087474823,\n  0.97826087474823,\n  0.97826087474823,\n  0.97826087474823,\n  0.97826087474823,\n  0.97826087474823,\n  0.97826087474823,\n  0.97826087474823,\n  0.97826087474823,\n  0.97826087474823,\n  0.97826087474823,\n  0.97826087474823,\n  0.97826087474823,\n  0.97826087474823,\n  0.97826087474823,\n  0.97826087474823,\n  0.97826087474823,\n  0.97826087474823,\n  0.97826087474823,\n  0.97826087474823,\n  0.97826087474823,\n  0.97826087474823,\n  0.97826087474823,\n  0.97826087474823,\n  0.97826087474823,\n  0.97826087474823,\n  0.97826087474823,\n  0.97826087474823,\n  0.97826087474823,\n  0.97826087474823,\n  0.97826087474823,\n  0.97826087474823]}"
          },
          "metadata": {}
        }
      ],
      "execution_count": 48,
      "metadata": {
        "collapsed": true,
        "jupyter": {
          "source_hidden": false,
          "outputs_hidden": false
        },
        "nteract": {
          "transient": {
            "deleting": false
          }
        },
        "execution": {
          "iopub.status.busy": "2022-08-28T06:23:13.808Z",
          "iopub.execute_input": "2022-08-28T06:23:13.813Z",
          "iopub.status.idle": "2022-08-28T06:23:13.825Z",
          "shell.execute_reply": "2022-08-28T06:23:13.829Z"
        }
      }
    },
    {
      "cell_type": "code",
      "source": [
        "plt.plot(history_std.history[\"accuracy\"])\n",
        "plt.plot(history_std.history[\"val_accuracy\"])\n",
        "plt.title(\"model_accuracy\")\n",
        "plt.ylabel(\"accuracy\")\n",
        "plt.xlabel(\"epoch\")\n",
        "plt.legend([\"train\", \"val\"], loc=\"lower right\")\n",
        "plt.show()"
      ],
      "outputs": [
        {
          "output_type": "display_data",
          "data": {
            "text/plain": "<Figure size 640x480 with 1 Axes>",
            "image/png": "[encoded data removed]"
          },
          "metadata": {}
        }
      ],
      "execution_count": 49,
      "metadata": {
        "collapsed": true,
        "jupyter": {
          "source_hidden": false,
          "outputs_hidden": false
        },
        "nteract": {
          "transient": {
            "deleting": false
          }
        },
        "execution": {
          "iopub.status.busy": "2022-08-28T06:23:16.198Z",
          "iopub.execute_input": "2022-08-28T06:23:16.209Z",
          "iopub.status.idle": "2022-08-28T06:23:16.230Z",
          "shell.execute_reply": "2022-08-28T06:23:16.236Z"
        }
      }
    },
    {
      "cell_type": "code",
      "source": [
        "y_pred = model.predict(X_test_std)"
      ],
      "outputs": [
        {
          "output_type": "stream",
          "name": "stdout",
          "text": [
            "4/4 [==============================] - 0s 3ms/step\b\b\b\b\b\b\b\b\b\b\b\b\b\b\b\b\b\b\b\b\b\b\b\b\b\b\b\b\b\b\b\b\b\b\b\b\b\b\b\b\b\b\n"
          ]
        },
        {
          "output_type": "stream",
          "name": "stderr",
          "text": [
            "2022-08-28 11:54:20.004420: I tensorflow/core/grappler/optimizers/custom_graph_optimizer_registry.cc:113] Plugin optimizer for device_type GPU is enabled.\n"
          ]
        }
      ],
      "execution_count": 50,
      "metadata": {
        "collapsed": true,
        "jupyter": {
          "source_hidden": false,
          "outputs_hidden": false
        },
        "nteract": {
          "transient": {
            "deleting": false
          }
        },
        "execution": {
          "iopub.status.busy": "2022-08-28T06:24:20.036Z",
          "iopub.execute_input": "2022-08-28T06:24:20.045Z",
          "iopub.status.idle": "2022-08-28T06:24:20.071Z",
          "shell.execute_reply": "2022-08-28T06:24:20.090Z"
        }
      }
    },
    {
      "cell_type": "code",
      "source": [
        "y_pred.shape"
      ],
      "outputs": [
        {
          "output_type": "execute_result",
          "execution_count": 51,
          "data": {
            "text/plain": "(114, 2)"
          },
          "metadata": {}
        }
      ],
      "execution_count": 51,
      "metadata": {
        "collapsed": true,
        "jupyter": {
          "source_hidden": false,
          "outputs_hidden": false
        },
        "nteract": {
          "transient": {
            "deleting": false
          }
        },
        "execution": {
          "iopub.status.busy": "2022-08-28T06:24:27.638Z",
          "iopub.execute_input": "2022-08-28T06:24:27.651Z",
          "iopub.status.idle": "2022-08-28T06:24:27.732Z",
          "shell.execute_reply": "2022-08-28T06:24:27.741Z"
        }
      }
    },
    {
      "cell_type": "code",
      "source": [
        "y_pred[0]"
      ],
      "outputs": [
        {
          "output_type": "execute_result",
          "execution_count": 52,
          "data": {
            "text/plain": "array([0.30469525, 0.80094934], dtype=float32)"
          },
          "metadata": {}
        }
      ],
      "execution_count": 52,
      "metadata": {
        "collapsed": true,
        "jupyter": {
          "source_hidden": false,
          "outputs_hidden": false
        },
        "nteract": {
          "transient": {
            "deleting": false
          }
        },
        "execution": {
          "iopub.status.busy": "2022-08-28T06:24:46.997Z",
          "iopub.execute_input": "2022-08-28T06:24:47.005Z",
          "iopub.status.idle": "2022-08-28T06:24:47.025Z",
          "shell.execute_reply": "2022-08-28T06:24:47.032Z"
        }
      }
    },
    {
      "cell_type": "code",
      "source": [
        "y_pred_labels = [np.argmax(i) for i in y_pred]"
      ],
      "outputs": [],
      "execution_count": 53,
      "metadata": {
        "collapsed": true,
        "jupyter": {
          "source_hidden": false,
          "outputs_hidden": false
        },
        "nteract": {
          "transient": {
            "deleting": false
          }
        },
        "execution": {
          "iopub.status.busy": "2022-08-28T06:26:54.310Z",
          "iopub.execute_input": "2022-08-28T06:26:54.317Z",
          "iopub.status.idle": "2022-08-28T06:26:54.327Z",
          "shell.execute_reply": "2022-08-28T06:26:54.332Z"
        }
      }
    },
    {
      "cell_type": "code",
      "source": [
        "y_pred_labels"
      ],
      "outputs": [
        {
          "output_type": "execute_result",
          "execution_count": 54,
          "data": {
            "text/plain": "[1,\n 1,\n 1,\n 0,\n 1,\n 0,\n 1,\n 1,\n 1,\n 1,\n 0,\n 1,\n 1,\n 1,\n 1,\n 0,\n 1,\n 1,\n 1,\n 0,\n 1,\n 1,\n 1,\n 1,\n 1,\n 0,\n 1,\n 1,\n 0,\n 0,\n 1,\n 1,\n 1,\n 0,\n 0,\n 1,\n 1,\n 1,\n 1,\n 1,\n 0,\n 0,\n 1,\n 1,\n 0,\n 1,\n 1,\n 1,\n 0,\n 0,\n 1,\n 0,\n 0,\n 1,\n 1,\n 0,\n 1,\n 1,\n 0,\n 1,\n 1,\n 0,\n 1,\n 0,\n 0,\n 1,\n 0,\n 0,\n 0,\n 0,\n 0,\n 0,\n 1,\n 0,\n 1,\n 0,\n 1,\n 1,\n 1,\n 0,\n 0,\n 0,\n 0,\n 1,\n 1,\n 0,\n 1,\n 1,\n 1,\n 0,\n 1,\n 1,\n 1,\n 0,\n 0,\n 1,\n 0,\n 0,\n 1,\n 1,\n 1,\n 0,\n 0,\n 0,\n 1,\n 1,\n 1,\n 1,\n 1,\n 1,\n 0,\n 0,\n 0,\n 0]"
          },
          "metadata": {}
        }
      ],
      "execution_count": 54,
      "metadata": {
        "collapsed": true,
        "jupyter": {
          "source_hidden": false,
          "outputs_hidden": false
        },
        "nteract": {
          "transient": {
            "deleting": false
          }
        },
        "execution": {
          "iopub.status.busy": "2022-08-28T06:26:58.917Z",
          "iopub.execute_input": "2022-08-28T06:26:58.929Z",
          "iopub.status.idle": "2022-08-28T06:26:58.948Z",
          "shell.execute_reply": "2022-08-28T06:26:58.953Z"
        }
      }
    },
    {
      "cell_type": "code",
      "source": [],
      "outputs": [],
      "execution_count": null,
      "metadata": {
        "collapsed": true,
        "jupyter": {
          "source_hidden": false,
          "outputs_hidden": false
        },
        "nteract": {
          "transient": {
            "deleting": false
          }
        }
      }
    }
  ],
  "metadata": {
    "kernel_info": {
      "name": "python3"
    },
    "language_info": {
      "name": "python",
      "version": "3.10.6",
      "mimetype": "text/x-python",
      "codemirror_mode": {
        "name": "ipython",
        "version": 3
      },
      "pygments_lexer": "ipython3",
      "nbconvert_exporter": "python",
      "file_extension": ".py"
    },
    "kernelspec": {
      "argv": [
        "/Users/harshulnanda/tensorflow-work/env/bin/python3",
        "-m",
        "ipykernel_launcher",
        "-f",
        "{connection_file}"
      ],
      "display_name": "Python 3 (ipykernel)",
      "language": "python",
      "metadata": {
        "debugger": true
      },
      "name": "python3"
    },
    "nteract": {
      "version": "0.28.0"
    }
  },
  "nbformat": 4,
  "nbformat_minor": 0
}